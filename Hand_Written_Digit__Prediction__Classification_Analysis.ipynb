{
 "cells": [
  {
   "cell_type": "markdown",
   "metadata": {
    "id": "GgDTj1BnDcaK"
   },
   "source": [
    "# **Hand Written Digit Prediction - Classification Analysis**"
   ]
  },
  {
   "cell_type": "markdown",
   "metadata": {
    "id": "XWmFrc3LGoMJ"
   },
   "source": [
    "# Objective"
   ]
  },
  {
   "cell_type": "markdown",
   "metadata": {
    "id": "1QznX3WAG4YF"
   },
   "source": [
    "The objective of the model discussed in the paper titled \"Hand Written Digit Prediction - Classification Analysis\" is to accurately predict handwritten digits using a machine learning model. Specifically, the model is designed to classify input data into one of ten categories (the digits 0-9).\n",
    "The ultimate goal of the model is to provide an accurate and efficient way to recognize and classify handwritten digits."
   ]
  },
  {
   "cell_type": "markdown",
   "metadata": {
    "id": "CXpiPNpSG4WJ"
   },
   "source": []
  },
  {
   "cell_type": "markdown",
   "metadata": {
    "id": "0cqqFMrZDZnv"
   },
   "source": [
    "# Import library "
   ]
  },
  {
   "cell_type": "code",
   "execution_count": 4,
   "metadata": {
    "id": "GnolZYcU4kFS"
   },
   "outputs": [],
   "source": [
    "import pandas as pd\n",
    "import numpy as np\n",
    "import matplotlib.pyplot as plt"
   ]
  },
  {
   "cell_type": "markdown",
   "metadata": {
    "id": "uF2OipfWEz6X"
   },
   "source": [
    "# Import Data"
   ]
  },
  {
   "cell_type": "code",
   "execution_count": 5,
   "metadata": {
    "id": "hqZmu6Qa474G"
   },
   "outputs": [],
   "source": [
    "from sklearn.datasets import load_digits\n"
   ]
  },
  {
   "cell_type": "markdown",
   "metadata": {
    "id": "likhYF-sFOXX"
   },
   "source": [
    "# Data processing "
   ]
  },
  {
   "cell_type": "code",
   "execution_count": 6,
   "metadata": {
    "id": "asVHp3s55IUh"
   },
   "outputs": [],
   "source": [
    "df = load_digits()"
   ]
  },
  {
   "cell_type": "code",
   "execution_count": 7,
   "metadata": {
    "colab": {
     "base_uri": "https://localhost:8080/",
     "height": 227
    },
    "id": "5FTze3Hy5NCw",
    "outputId": "8ec109fa-4966-490a-884f-85657d9f08ca"
   },
   "outputs": [
    {
     "data": {
      "image/png": "[encoded data removed]",
      "text/plain": [
       "<Figure size 1000x300 with 4 Axes>"
      ]
     },
     "metadata": {},
     "output_type": "display_data"
    }
   ],
   "source": [
    "\n",
    "_, axes = plt.subplots(nrows=1, ncols=4, figsize=(10, 3))\n",
    "for ax, image, label in zip(axes, df.images, df.target):\n",
    "    ax.set_axis_off()\n",
    "    ax.imshow(image, cmap=plt.cm.gray_r, interpolation=\"nearest\")\n",
    "    ax.set_title(\"Training: %i\" % label)"
   ]
  },
  {
   "cell_type": "code",
   "execution_count": 8,
   "metadata": {
    "colab": {
     "base_uri": "https://localhost:8080/"
    },
    "id": "SHmd5kPk8Gku",
    "outputId": "1d72d1b4-b837-4ca4-9edf-2fa0fdd33b1c"
   },
   "outputs": [
    {
     "data": {
      "text/plain": [
       "(1797, 8, 8)"
      ]
     },
     "execution_count": 8,
     "metadata": {},
     "output_type": "execute_result"
    }
   ],
   "source": [
    "df.images.shape\n"
   ]
  },
  {
   "cell_type": "code",
   "execution_count": 9,
   "metadata": {
    "colab": {
     "base_uri": "https://localhost:8080/"
    },
    "id": "dQNfCHjLALDI",
    "outputId": "66b9db9b-a4f7-49c9-fed9-51adb13f17d6"
   },
   "outputs": [
    {
     "data": {
      "text/plain": [
       "array([[ 0.,  0.,  5., 13.,  9.,  1.,  0.,  0.],\n",
       "       [ 0.,  0., 13., 15., 10., 15.,  5.,  0.],\n",
       "       [ 0.,  3., 15.,  2.,  0., 11.,  8.,  0.],\n",
       "       [ 0.,  4., 12.,  0.,  0.,  8.,  8.,  0.],\n",
       "       [ 0.,  5.,  8.,  0.,  0.,  9.,  8.,  0.],\n",
       "       [ 0.,  4., 11.,  0.,  1., 12.,  7.,  0.],\n",
       "       [ 0.,  2., 14.,  5., 10., 12.,  0.,  0.],\n",
       "       [ 0.,  0.,  6., 13., 10.,  0.,  0.,  0.]])"
      ]
     },
     "execution_count": 9,
     "metadata": {},
     "output_type": "execute_result"
    }
   ],
   "source": [
    "df.images[0]"
   ]
  },
  {
   "cell_type": "code",
   "execution_count": 10,
   "metadata": {
    "colab": {
     "base_uri": "https://localhost:8080/"
    },
    "id": "0MELM9T0APhS",
    "outputId": "44c1aef3-4b0d-4dbb-fb4c-0d6ff814767b"
   },
   "outputs": [
    {
     "data": {
      "text/plain": [
       "(8, 8)"
      ]
     },
     "execution_count": 10,
     "metadata": {},
     "output_type": "execute_result"
    }
   ],
   "source": [
    "df.images[0].shape\n"
   ]
  },
  {
   "cell_type": "code",
   "execution_count": null,
   "metadata": {
    "id": "ZWD1fiv2AW95"
   },
   "outputs": [],
   "source": []
  },
  {
   "cell_type": "code",
   "execution_count": 11,
   "metadata": {
    "colab": {
     "base_uri": "https://localhost:8080/"
    },
    "id": "zMzRp_vMAW_B",
    "outputId": "69b8b411-9f1b-411a-95c2-90f557d86d81"
   },
   "outputs": [
    {
     "data": {
      "text/plain": [
       "1797"
      ]
     },
     "execution_count": 11,
     "metadata": {},
     "output_type": "execute_result"
    }
   ],
   "source": [
    "len(df.images)"
   ]
  },
  {
   "cell_type": "code",
   "execution_count": 12,
   "metadata": {
    "id": "g1JUcPOIAitO"
   },
   "outputs": [],
   "source": [
    "n_samples = len(df. images)\n",
    "data = df.images.reshape((n_samples, -1))\n"
   ]
  },
  {
   "cell_type": "code",
   "execution_count": 13,
   "metadata": {
    "colab": {
     "base_uri": "https://localhost:8080/"
    },
    "id": "uPxsi4LCAlFc",
    "outputId": "cd51e32d-93c8-4f23-e696-09823b7bcf1d"
   },
   "outputs": [
    {
     "data": {
      "text/plain": [
       "array([ 0.,  0.,  5., 13.,  9.,  1.,  0.,  0.,  0.,  0., 13., 15., 10.,\n",
       "       15.,  5.,  0.,  0.,  3., 15.,  2.,  0., 11.,  8.,  0.,  0.,  4.,\n",
       "       12.,  0.,  0.,  8.,  8.,  0.,  0.,  5.,  8.,  0.,  0.,  9.,  8.,\n",
       "        0.,  0.,  4., 11.,  0.,  1., 12.,  7.,  0.,  0.,  2., 14.,  5.,\n",
       "       10., 12.,  0.,  0.,  0.,  0.,  6., 13., 10.,  0.,  0.,  0.])"
      ]
     },
     "execution_count": 13,
     "metadata": {},
     "output_type": "execute_result"
    }
   ],
   "source": [
    "data[0]"
   ]
  },
  {
   "cell_type": "code",
   "execution_count": 14,
   "metadata": {
    "colab": {
     "base_uri": "https://localhost:8080/"
    },
    "id": "vvq59j7uAojb",
    "outputId": "9d1b1310-944b-4046-9412-8e279781f474"
   },
   "outputs": [
    {
     "data": {
      "text/plain": [
       "(64,)"
      ]
     },
     "execution_count": 14,
     "metadata": {},
     "output_type": "execute_result"
    }
   ],
   "source": [
    "data[0].shape\n"
   ]
  },
  {
   "cell_type": "code",
   "execution_count": 15,
   "metadata": {
    "colab": {
     "base_uri": "https://localhost:8080/"
    },
    "id": "_tjLd89BAufF",
    "outputId": "c7576e26-1ea0-4ebb-da06-bd41111312df"
   },
   "outputs": [
    {
     "data": {
      "text/plain": [
       "(1797, 64)"
      ]
     },
     "execution_count": 15,
     "metadata": {},
     "output_type": "execute_result"
    }
   ],
   "source": [
    "data.shape\n"
   ]
  },
  {
   "cell_type": "markdown",
   "metadata": {
    "id": "8sEbq2XqFWlS"
   },
   "source": [
    "# Scalling Image Data"
   ]
  },
  {
   "cell_type": "code",
   "execution_count": 16,
   "metadata": {
    "colab": {
     "base_uri": "https://localhost:8080/"
    },
    "id": "HNct613CAyqh",
    "outputId": "97aac4fb-d449-4942-e6fd-5183ee7fe193"
   },
   "outputs": [
    {
     "data": {
      "text/plain": [
       "0.0"
      ]
     },
     "execution_count": 16,
     "metadata": {},
     "output_type": "execute_result"
    }
   ],
   "source": [
    "data.min()"
   ]
  },
  {
   "cell_type": "code",
   "execution_count": 17,
   "metadata": {
    "colab": {
     "base_uri": "https://localhost:8080/"
    },
    "id": "EJtgo-PpA5Cb",
    "outputId": "f16ac7a6-8019-4f61-8518-dd8d827a6847"
   },
   "outputs": [
    {
     "data": {
      "text/plain": [
       "16.0"
      ]
     },
     "execution_count": 17,
     "metadata": {},
     "output_type": "execute_result"
    }
   ],
   "source": [
    "data.max()"
   ]
  },
  {
   "cell_type": "code",
   "execution_count": 18,
   "metadata": {
    "id": "ZrtRUOjOA7on"
   },
   "outputs": [],
   "source": [
    "data=data/16"
   ]
  },
  {
   "cell_type": "code",
   "execution_count": 19,
   "metadata": {
    "colab": {
     "base_uri": "https://localhost:8080/"
    },
    "id": "bg9vtMtRBA0A",
    "outputId": "42e354cb-091c-4f24-8f74-e6f012e78944"
   },
   "outputs": [
    {
     "data": {
      "text/plain": [
       "0.0"
      ]
     },
     "execution_count": 19,
     "metadata": {},
     "output_type": "execute_result"
    }
   ],
   "source": [
    "data.min()\n"
   ]
  },
  {
   "cell_type": "code",
   "execution_count": null,
   "metadata": {
    "id": "u4FioOFuBJhQ"
   },
   "outputs": [],
   "source": []
  },
  {
   "cell_type": "code",
   "execution_count": 20,
   "metadata": {
    "colab": {
     "base_uri": "https://localhost:8080/"
    },
    "id": "NrOz52sEBDJk",
    "outputId": "8f7c11f3-7a4e-469b-aaec-f30f4deaccef"
   },
   "outputs": [
    {
     "data": {
      "text/plain": [
       "1.0"
      ]
     },
     "execution_count": 20,
     "metadata": {},
     "output_type": "execute_result"
    }
   ],
   "source": [
    "data.max()\n"
   ]
  },
  {
   "cell_type": "code",
   "execution_count": 21,
   "metadata": {
    "colab": {
     "base_uri": "https://localhost:8080/"
    },
    "id": "1iqSo7-PBDLI",
    "outputId": "f63cb27a-3e84-4d5a-bcb8-b5d0a83a665a"
   },
   "outputs": [
    {
     "data": {
      "text/plain": [
       "array([0.    , 0.    , 0.3125, 0.8125, 0.5625, 0.0625, 0.    , 0.    ,\n",
       "       0.    , 0.    , 0.8125, 0.9375, 0.625 , 0.9375, 0.3125, 0.    ,\n",
       "       0.    , 0.1875, 0.9375, 0.125 , 0.    , 0.6875, 0.5   , 0.    ,\n",
       "       0.    , 0.25  , 0.75  , 0.    , 0.    , 0.5   , 0.5   , 0.    ,\n",
       "       0.    , 0.3125, 0.5   , 0.    , 0.    , 0.5625, 0.5   , 0.    ,\n",
       "       0.    , 0.25  , 0.6875, 0.    , 0.0625, 0.75  , 0.4375, 0.    ,\n",
       "       0.    , 0.125 , 0.875 , 0.3125, 0.625 , 0.75  , 0.    , 0.    ,\n",
       "       0.    , 0.    , 0.375 , 0.8125, 0.625 , 0.    , 0.    , 0.    ])"
      ]
     },
     "execution_count": 21,
     "metadata": {},
     "output_type": "execute_result"
    }
   ],
   "source": [
    "data[0]"
   ]
  },
  {
   "cell_type": "markdown",
   "metadata": {
    "id": "sSdTEi95FccD"
   },
   "source": [
    "# Train Test Split Data"
   ]
  },
  {
   "cell_type": "code",
   "execution_count": 22,
   "metadata": {
    "id": "Dlp9w2vUBUf5"
   },
   "outputs": [],
   "source": [
    " \n",
    "from sklearn.model_selection import train_test_split\n"
   ]
  },
  {
   "cell_type": "code",
   "execution_count": 23,
   "metadata": {
    "id": "L5VDlKEzBdQC"
   },
   "outputs": [],
   "source": [
    "X_train, X_test, y_train, y_test = train_test_split(data, df.target, test_size=0.3)\n"
   ]
  },
  {
   "cell_type": "code",
   "execution_count": 24,
   "metadata": {
    "colab": {
     "base_uri": "https://localhost:8080/"
    },
    "id": "AYX2h__HB2nj",
    "outputId": "733ec1a4-fd3e-445c-ec6f-c178e08cfca4"
   },
   "outputs": [
    {
     "data": {
      "text/plain": [
       "((1257, 64), (540, 64), (1257,), (540,))"
      ]
     },
     "execution_count": 24,
     "metadata": {},
     "output_type": "execute_result"
    }
   ],
   "source": [
    "X_train.shape, X_test.shape, y_train. shape, y_test.shape"
   ]
  },
  {
   "cell_type": "markdown",
   "metadata": {
    "id": "0wcKZe4IB5iV"
   },
   "source": [
    "# Random Forest Model"
   ]
  },
  {
   "cell_type": "code",
   "execution_count": 25,
   "metadata": {
    "id": "G3ClevVdB59x"
   },
   "outputs": [],
   "source": [
    "from sklearn.ensemble import RandomForestClassifier"
   ]
  },
  {
   "cell_type": "code",
   "execution_count": 26,
   "metadata": {
    "id": "E4xJ8ZGxCM4O"
   },
   "outputs": [],
   "source": [
    "rf = RandomForestClassifier()"
   ]
  },
  {
   "cell_type": "code",
   "execution_count": 27,
   "metadata": {
    "colab": {
     "base_uri": "https://localhost:8080/",
     "height": 74
    },
    "id": "5-IPBVEJCOhB",
    "outputId": "5a60c84f-fe2b-4aef-b67c-dbe548c0eb1f"
   },
   "outputs": [
    {
     "data": {
      "text/plain": [
       "RandomForestClassifier()"
      ]
     },
     "execution_count": 27,
     "metadata": {},
     "output_type": "execute_result"
    }
   ],
   "source": [
    "rf.fit(X_train, y_train)"
   ]
  },
  {
   "cell_type": "markdown",
   "metadata": {
    "id": "b_wmi2imFtUu"
   },
   "source": [
    "# Predict Test data"
   ]
  },
  {
   "cell_type": "code",
   "execution_count": 28,
   "metadata": {
    "id": "Vz8oXuaxCZND"
   },
   "outputs": [],
   "source": [
    "y_pred = rf.predict(X_test)"
   ]
  },
  {
   "cell_type": "code",
   "execution_count": 29,
   "metadata": {
    "colab": {
     "base_uri": "https://localhost:8080/"
    },
    "id": "bzfpvv7QCnrj",
    "outputId": "d0dc4ce3-7ec3-4fbc-ae40-5366f677601c"
   },
   "outputs": [
    {
     "data": {
      "text/plain": [
       "array([4, 4, 2, 6, 5, 4, 3, 1, 2, 0, 4, 7, 7, 9, 8, 3, 4, 0, 8, 6, 8, 4,\n",
       "       9, 0, 6, 2, 8, 9, 3, 1, 7, 2, 9, 4, 3, 5, 5, 5, 0, 3, 9, 7, 8, 3,\n",
       "       6, 1, 0, 8, 4, 3, 6, 2, 0, 5, 7, 8, 6, 0, 3, 3, 3, 5, 1, 5, 3, 6,\n",
       "       3, 1, 3, 6, 2, 4, 3, 1, 3, 9, 3, 8, 5, 8, 7, 3, 5, 4, 9, 5, 3, 1,\n",
       "       0, 1, 9, 3, 0, 2, 3, 0, 5, 0, 3, 7, 9, 6, 2, 2, 8, 1, 0, 7, 4, 9,\n",
       "       8, 1, 1, 8, 6, 7, 5, 5, 0, 5, 1, 0, 7, 7, 7, 1, 7, 8, 8, 9, 4, 6,\n",
       "       3, 7, 7, 4, 5, 2, 6, 0, 7, 6, 6, 0, 6, 7, 1, 1, 1, 0, 6, 6, 1, 7,\n",
       "       2, 7, 9, 9, 4, 3, 5, 9, 5, 4, 4, 6, 4, 6, 9, 5, 2, 7, 9, 4, 3, 3,\n",
       "       8, 7, 3, 0, 5, 3, 0, 1, 5, 5, 6, 0, 1, 4, 5, 7, 9, 8, 3, 7, 6, 6,\n",
       "       2, 5, 1, 7, 7, 5, 9, 9, 4, 9, 9, 0, 4, 9, 2, 4, 9, 1, 4, 8, 8, 9,\n",
       "       4, 0, 6, 6, 1, 7, 7, 9, 0, 8, 2, 1, 7, 2, 0, 2, 1, 0, 8, 6, 1, 1,\n",
       "       8, 0, 6, 8, 5, 9, 7, 6, 8, 5, 1, 0, 2, 8, 8, 3, 3, 5, 3, 2, 2, 3,\n",
       "       3, 0, 0, 3, 8, 2, 5, 7, 9, 1, 6, 8, 0, 2, 7, 4, 4, 0, 8, 5, 6, 4,\n",
       "       8, 9, 6, 5, 4, 6, 1, 9, 7, 9, 9, 8, 1, 7, 3, 2, 0, 5, 4, 6, 0, 4,\n",
       "       1, 1, 4, 9, 8, 3, 1, 6, 4, 7, 2, 6, 1, 3, 5, 1, 3, 8, 4, 5, 1, 8,\n",
       "       0, 6, 1, 7, 3, 2, 2, 8, 9, 9, 7, 9, 9, 9, 4, 8, 8, 8, 4, 5, 8, 9,\n",
       "       4, 9, 1, 4, 8, 2, 6, 2, 5, 4, 0, 8, 2, 6, 0, 2, 7, 4, 7, 5, 5, 6,\n",
       "       7, 5, 4, 6, 3, 8, 7, 7, 3, 8, 9, 4, 4, 1, 5, 3, 6, 9, 6, 0, 2, 2,\n",
       "       1, 1, 4, 3, 4, 6, 6, 6, 4, 4, 6, 6, 7, 7, 0, 4, 2, 9, 0, 9, 2, 8,\n",
       "       8, 1, 6, 0, 5, 9, 5, 5, 2, 3, 5, 4, 4, 6, 7, 6, 3, 0, 0, 8, 8, 5,\n",
       "       3, 2, 4, 2, 5, 2, 7, 0, 1, 7, 7, 2, 0, 4, 5, 8, 4, 5, 5, 6, 2, 4,\n",
       "       7, 9, 2, 2, 8, 0, 2, 0, 6, 7, 6, 6, 6, 9, 0, 3, 4, 5, 0, 8, 9, 2,\n",
       "       1, 3, 9, 4, 7, 3, 9, 0, 1, 3, 5, 6, 5, 4, 6, 5, 6, 7, 1, 8, 4, 7,\n",
       "       2, 0, 2, 2, 7, 2, 2, 5, 2, 6, 9, 2, 7, 7, 1, 8, 4, 2, 3, 3, 1, 8,\n",
       "       2, 0, 2, 2, 0, 2, 4, 8, 5, 3, 0, 3])"
      ]
     },
     "execution_count": 29,
     "metadata": {},
     "output_type": "execute_result"
    }
   ],
   "source": [
    "y_pred\n"
   ]
  },
  {
   "cell_type": "markdown",
   "metadata": {
    "id": "yetuy-XMFzLv"
   },
   "source": [
    "# Model Accuracy "
   ]
  },
  {
   "cell_type": "code",
   "execution_count": 30,
   "metadata": {
    "id": "kqZFAT7NCq2Z"
   },
   "outputs": [],
   "source": [
    "from sklearn.metrics import confusion_matrix, classification_report"
   ]
  },
  {
   "cell_type": "code",
   "execution_count": 31,
   "metadata": {
    "colab": {
     "base_uri": "https://localhost:8080/"
    },
    "id": "6Xs8BLXqC2_y",
    "outputId": "7b86f9c5-8df0-4c69-f51d-ecad11c3f7cb"
   },
   "outputs": [
    {
     "data": {
      "text/plain": [
       "array([[53,  0,  0,  0,  0,  0,  0,  0,  0,  0],\n",
       "       [ 0, 46,  0,  0,  0,  0,  0,  0,  0,  0],\n",
       "       [ 0,  0, 55,  0,  0,  0,  0,  0,  0,  0],\n",
       "       [ 0,  0,  0, 52,  0,  0,  0,  1,  0,  0],\n",
       "       [ 0,  0,  0,  0, 59,  0,  0,  2,  0,  0],\n",
       "       [ 0,  0,  0,  0,  0, 52,  1,  0,  0,  1],\n",
       "       [ 0,  0,  0,  0,  0,  1, 56,  0,  0,  0],\n",
       "       [ 0,  0,  0,  0,  0,  0,  0, 51,  0,  1],\n",
       "       [ 0,  2,  1,  0,  0,  0,  1,  1, 53,  0],\n",
       "       [ 0,  0,  0,  2,  0,  1,  0,  0,  0, 48]], dtype=int64)"
      ]
     },
     "execution_count": 31,
     "metadata": {},
     "output_type": "execute_result"
    }
   ],
   "source": [
    "confusion_matrix(y_test, y_pred)"
   ]
  },
  {
   "cell_type": "code",
   "execution_count": 32,
   "metadata": {
    "colab": {
     "base_uri": "https://localhost:8080/"
    },
    "id": "IVgwgPliC4dS",
    "outputId": "997b1634-9f50-4bf1-9b0f-727a903ee103"
   },
   "outputs": [
    {
     "name": "stdout",
     "output_type": "stream",
     "text": [
      "              precision    recall  f1-score   support\n",
      "\n",
      "           0       1.00      1.00      1.00        53\n",
      "           1       0.96      1.00      0.98        46\n",
      "           2       0.98      1.00      0.99        55\n",
      "           3       0.96      0.98      0.97        53\n",
      "           4       1.00      0.97      0.98        61\n",
      "           5       0.96      0.96      0.96        54\n",
      "           6       0.97      0.98      0.97        57\n",
      "           7       0.93      0.98      0.95        52\n",
      "           8       1.00      0.91      0.95        58\n",
      "           9       0.96      0.94      0.95        51\n",
      "\n",
      "    accuracy                           0.97       540\n",
      "   macro avg       0.97      0.97      0.97       540\n",
      "weighted avg       0.97      0.97      0.97       540\n",
      "\n"
     ]
    }
   ],
   "source": [
    "print(classification_report(y_test,y_pred))"
   ]
  },
  {
   "cell_type": "markdown",
   "metadata": {
    "id": "xLZ0-jtlDYMx"
   },
   "source": [
    "# Explaination"
   ]
  },
  {
   "cell_type": "markdown",
   "metadata": {
    "id": "psGXHYM-Cl11"
   },
   "source": [
    "Overall, the paper provides a detailed description of the development and evaluation of a machine learning model for handwritten digit classification."
   ]
  }
 ],
 "metadata": {
  "colab": {
   "authorship_tag": "ABX9TyP2uoZYxT71ACIKY/l5aeWO",
   "include_colab_link": true,
   "provenance": []
  },
  "kernelspec": {
   "display_name": "Python 3.11.0 64-bit",
   "language": "python",
   "name": "python3"
  },
  "language_info": {
   "codemirror_mode": {
    "name": "ipython",
    "version": 3
   },
   "file_extension": ".py",
   "mimetype": "text/x-python",
   "name": "python",
   "nbconvert_exporter": "python",
   "pygments_lexer": "ipython3",
   "version": "3.11.0"
  },
  "vscode": {
   "interpreter": {
    "hash": "8ad59b053473279350e45b00c3b9a8c3f41ed8c30903618de3f627042677f79a"
   }
  }
 },
 "nbformat": 4,
 "nbformat_minor": 1
}
